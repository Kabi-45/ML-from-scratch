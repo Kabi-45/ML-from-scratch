{
  "nbformat": 4,
  "nbformat_minor": 0,
  "metadata": {
    "colab": {
      "provenance": [],
      "authorship_tag": "ABX9TyNDyqwihAMifANPdtu62LiL",
      "include_colab_link": true
    },
    "kernelspec": {
      "name": "python3",
      "display_name": "Python 3"
    },
    "language_info": {
      "name": "python"
    }
  },
  "cells": [
    {
      "cell_type": "markdown",
      "metadata": {
        "id": "view-in-github",
        "colab_type": "text"
      },
      "source": [
        "<a href=\"https://colab.research.google.com/github/Kabi-45/ML-from-scratch/blob/main/LinearRegression.ipynb\" target=\"_parent\"><img src=\"https://colab.research.google.com/assets/colab-badge.svg\" alt=\"Open In Colab\"/></a>"
      ]
    },
    {
      "cell_type": "code",
      "source": [
        "# @title Linear Regression using Gradient Descent\n",
        "import numpy as np\n",
        "\n",
        "class LinearRegression:\n",
        "    def __init__(self, learning_rate=0.01, n_iterations=1000):\n",
        "        self.learning_rate = learning_rate\n",
        "        self.n_iterations = n_iterations\n",
        "        self.weights = None\n",
        "\n",
        "    def fit(self, X, y):\n",
        "        # Ensure X is a 2D array\n",
        "        if len(X.shape) == 1:\n",
        "            X = X.reshape(-1, 1)\n",
        "\n",
        "        n_samples, n_features = X.shape\n",
        "        self.weights = np.zeros(n_features)  # Initialize weights\n",
        "\n",
        "        for _ in range(self.n_iterations):\n",
        "            predictions = X.dot(self.weights)  # Predicted values\n",
        "            errors = predictions - y          # Errors\n",
        "            gradient = (1 / n_samples) * X.T.dot(errors)  # Gradient\n",
        "            self.weights -= self.learning_rate * gradient  # Update weights\n",
        "\n",
        "    def predict(self, X):\n",
        "        if len(X.shape) == 1:\n",
        "            X = X.reshape(-1, 1)\n",
        "        return X.dot(self.weights)\n",
        "\n",
        "import numpy as np\n",
        "\n",
        "# Example dataset\n",
        "X = np.array([[1], [2], [3], [4], [5]])  # Shape: (5, 1)\n",
        "y = np.array([2, 4, 6, 8, 10])           # Shape: (5,)\n",
        "\n",
        "# Create and train the model\n",
        "model = LinearRegression(learning_rate=0.01, n_iterations=1000)\n",
        "model.fit(X, y)\n",
        "\n",
        "# Make predictions\n",
        "predictions = model.predict(X)\n",
        "print(\"Predictions:\", predictions)\n",
        "print(\"Weights:\", model.weights)\n"
      ],
      "metadata": {
        "colab": {
          "base_uri": "https://localhost:8080/"
        },
        "id": "F9I6GFWwl9O2",
        "outputId": "cd4a60c7-5d8e-4028-d2b1-38dbaaaae9b5"
      },
      "execution_count": 14,
      "outputs": [
        {
          "output_type": "stream",
          "name": "stdout",
          "text": [
            "Predictions: [ 2.  4.  6.  8. 10.]\n",
            "Weights: [2.]\n"
          ]
        }
      ]
    },
    {
      "cell_type": "code",
      "source": [
        "# @title Linear Regression using Normal Equation\n",
        "\n",
        "class LinearRegressionOLS:\n",
        "    def __init__(self):\n",
        "        self.weights = None  # To store model coefficients (weights)\n",
        "\n",
        "    def fit(self, X, y):\n",
        "\n",
        "        # Add bias (intercept) term to the feature matrix\n",
        "        X_bias = np.c_[np.ones(X.shape[0]), X]  # Add a column of ones for the intercept\n",
        "\n",
        "        # Normal equation: beta = (X^T X)^-1 X^T y\n",
        "        X_transpose = X_bias.T\n",
        "        beta = np.linalg.inv(X_transpose @ X_bias) @ X_transpose @ y\n",
        "        self.weights = beta\n",
        "\n",
        "    def predict(self, X):\n",
        "\n",
        "        # Add bias (intercept) term to the feature matrix\n",
        "        X_bias = np.c_[np.ones(X.shape[0]), X]\n",
        "\n",
        "        # Compute predictions: y = X_bias @ beta\n",
        "        return X_bias @ self.weights\n",
        "\n",
        "\n",
        "\n",
        "# Sample Dataset\n",
        "# Features (X) and target (y)\n",
        "X = np.array([[1], [2], [3], [4], [5]])\n",
        "y = np.array([1.2, 1.9, 3.0, 3.8, 5.1])\n",
        "\n",
        "# Initialize the model\n",
        "model = LinearRegressionOLS()\n",
        "\n",
        "# Fit the model\n",
        "model.fit(X, y)\n",
        "\n",
        "\n",
        "# Make predictions\n",
        "y_pred = model.predict(X)\n",
        "print(f\"Predictions: {y_pred}\")\n"
      ],
      "metadata": {
        "colab": {
          "base_uri": "https://localhost:8080/"
        },
        "id": "agmXP9dpn_A3",
        "outputId": "ce48cd09-9f8a-4e30-9f5c-785d6a654144"
      },
      "execution_count": 17,
      "outputs": [
        {
          "output_type": "stream",
          "name": "stdout",
          "text": [
            "Predictions: [1.06 2.03 3.   3.97 4.94]\n"
          ]
        }
      ]
    }
  ]
}